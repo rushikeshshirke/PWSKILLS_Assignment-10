{
 "cells": [
  {
   "cell_type": "code",
   "execution_count": 1,
   "id": "d6b7cb18-80c4-493a-8167-0862cae629d9",
   "metadata": {},
   "outputs": [],
   "source": [
    "# Q1.\n",
    "# Errors are the problems in a program due to which the program will stop the execution. \n",
    "#Exceptions are raised when some internal events occur which changes the normal flow of the program. \n",
    "# In general exception are the run-time obstruction and errors are the compile obstruction."
   ]
  },
  {
   "cell_type": "code",
   "execution_count": 3,
   "id": "55161497-53c3-4189-84ca-9d29ac54292c",
   "metadata": {},
   "outputs": [
    {
     "ename": "FileNotFoundError",
     "evalue": "[Errno 2] No such file or directory: 'demo.txt'",
     "output_type": "error",
     "traceback": [
      "\u001b[0;31m---------------------------------------------------------------------------\u001b[0m",
      "\u001b[0;31mFileNotFoundError\u001b[0m                         Traceback (most recent call last)",
      "Cell \u001b[0;32mIn[3], line 7\u001b[0m\n\u001b[1;32m      1\u001b[0m \u001b[38;5;66;03m# Q2.\u001b[39;00m\n\u001b[1;32m      2\u001b[0m \n\u001b[1;32m      3\u001b[0m \u001b[38;5;66;03m# If an exception is not handled then the our program gets crashed and execution will stop.\u001b[39;00m\n\u001b[1;32m      4\u001b[0m \n\u001b[1;32m      5\u001b[0m \u001b[38;5;66;03m# example without exception handling\u001b[39;00m\n\u001b[0;32m----> 7\u001b[0m f \u001b[38;5;241m=\u001b[39m \u001b[38;5;28;43mopen\u001b[39;49m\u001b[43m(\u001b[49m\u001b[38;5;124;43m'\u001b[39;49m\u001b[38;5;124;43mdemo.txt\u001b[39;49m\u001b[38;5;124;43m'\u001b[39;49m\u001b[43m,\u001b[49m\u001b[38;5;124;43m'\u001b[39;49m\u001b[38;5;124;43mr\u001b[39;49m\u001b[38;5;124;43m'\u001b[39;49m\u001b[43m)\u001b[49m\n\u001b[1;32m      8\u001b[0m f\u001b[38;5;241m.\u001b[39mread(\u001b[38;5;241m20\u001b[39m)\n",
      "File \u001b[0;32m/opt/conda/lib/python3.10/site-packages/IPython/core/interactiveshell.py:282\u001b[0m, in \u001b[0;36m_modified_open\u001b[0;34m(file, *args, **kwargs)\u001b[0m\n\u001b[1;32m    275\u001b[0m \u001b[38;5;28;01mif\u001b[39;00m file \u001b[38;5;129;01min\u001b[39;00m {\u001b[38;5;241m0\u001b[39m, \u001b[38;5;241m1\u001b[39m, \u001b[38;5;241m2\u001b[39m}:\n\u001b[1;32m    276\u001b[0m     \u001b[38;5;28;01mraise\u001b[39;00m \u001b[38;5;167;01mValueError\u001b[39;00m(\n\u001b[1;32m    277\u001b[0m         \u001b[38;5;124mf\u001b[39m\u001b[38;5;124m\"\u001b[39m\u001b[38;5;124mIPython won\u001b[39m\u001b[38;5;124m'\u001b[39m\u001b[38;5;124mt let you open fd=\u001b[39m\u001b[38;5;132;01m{\u001b[39;00mfile\u001b[38;5;132;01m}\u001b[39;00m\u001b[38;5;124m by default \u001b[39m\u001b[38;5;124m\"\u001b[39m\n\u001b[1;32m    278\u001b[0m         \u001b[38;5;124m\"\u001b[39m\u001b[38;5;124mas it is likely to crash IPython. If you know what you are doing, \u001b[39m\u001b[38;5;124m\"\u001b[39m\n\u001b[1;32m    279\u001b[0m         \u001b[38;5;124m\"\u001b[39m\u001b[38;5;124myou can use builtins\u001b[39m\u001b[38;5;124m'\u001b[39m\u001b[38;5;124m open.\u001b[39m\u001b[38;5;124m\"\u001b[39m\n\u001b[1;32m    280\u001b[0m     )\n\u001b[0;32m--> 282\u001b[0m \u001b[38;5;28;01mreturn\u001b[39;00m \u001b[43mio_open\u001b[49m\u001b[43m(\u001b[49m\u001b[43mfile\u001b[49m\u001b[43m,\u001b[49m\u001b[43m \u001b[49m\u001b[38;5;241;43m*\u001b[39;49m\u001b[43margs\u001b[49m\u001b[43m,\u001b[49m\u001b[43m \u001b[49m\u001b[38;5;241;43m*\u001b[39;49m\u001b[38;5;241;43m*\u001b[39;49m\u001b[43mkwargs\u001b[49m\u001b[43m)\u001b[49m\n",
      "\u001b[0;31mFileNotFoundError\u001b[0m: [Errno 2] No such file or directory: 'demo.txt'"
     ]
    }
   ],
   "source": [
    "# Q2.\n",
    "\n",
    "# If an exception is not handled then the our program gets crashed and execution will stop.\n",
    "\n",
    "# example without exception handling\n",
    "\n",
    "f = open('demo.txt','r')\n",
    "f.read(20)"
   ]
  },
  {
   "cell_type": "code",
   "execution_count": 4,
   "id": "0396a516-347b-42f4-8954-445deacf394e",
   "metadata": {},
   "outputs": [
    {
     "name": "stdout",
     "output_type": "stream",
     "text": [
      "Exception occured [Errno 2] No such file or directory: 'demp.txt'\n"
     ]
    }
   ],
   "source": [
    "# example with exception handling\n",
    "\n",
    "try:\n",
    "    f = open('demp.txt','r')\n",
    "except Exception as e:\n",
    "    print('Exception occured',e)"
   ]
  },
  {
   "cell_type": "code",
   "execution_count": 5,
   "id": "226faf5c-e388-4256-a523-e149142c6e8c",
   "metadata": {},
   "outputs": [
    {
     "name": "stdout",
     "output_type": "stream",
     "text": [
      "Exception occured [Errno 2] No such file or directory: 'demp.txt'\n"
     ]
    }
   ],
   "source": [
    "# Q3. \n",
    "# try catch blocks are used to catch and handle exception in python\n",
    "\n",
    "try:\n",
    "    f = open('demp.txt','r')\n",
    "except Exception as e:\n",
    "    print('Exception occured',e)"
   ]
  },
  {
   "cell_type": "code",
   "execution_count": 7,
   "id": "632be504-2f87-4993-89a1-1465b614a32e",
   "metadata": {},
   "outputs": [
    {
     "name": "stdout",
     "output_type": "stream",
     "text": [
      "try block exeeuted first and then else block is executed\n"
     ]
    }
   ],
   "source": [
    "# Q4.\n",
    "#1.\n",
    "try:\n",
    "    f = open('demp.txt','w')\n",
    "except Exception as e:\n",
    "    print('Exception occured',e)\n",
    "else:\n",
    "    f.close()\n",
    "    print('try block exeeuted first and then else block is executed')"
   ]
  },
  {
   "cell_type": "code",
   "execution_count": 8,
   "id": "f6f56193-0041-49cb-9265-8580b3226546",
   "metadata": {},
   "outputs": [
    {
     "name": "stdout",
     "output_type": "stream",
     "text": [
      "finally block will be executed regardless of the try and catch block whether exception occured or not.\n"
     ]
    }
   ],
   "source": [
    "# 2.\n",
    "\n",
    "try:\n",
    "    f = open('demp.txt','r')\n",
    "except Exception as e:\n",
    "    print('Exception occured',e)\n",
    "finally:\n",
    "    print('finally block will be executed regardless of the try and catch block whether exception occured or not.')"
   ]
  },
  {
   "cell_type": "code",
   "execution_count": 9,
   "id": "4b3c61eb-9bfb-4086-84a8-bc69b56c2809",
   "metadata": {},
   "outputs": [],
   "source": [
    "# 3.\n",
    "\n",
    "class validateage(Exception):\n",
    "    def __init__(self, msg):\n",
    "        self.msg = msg\n",
    "        \n",
    "def validate(age):\n",
    "    if age<0:\n",
    "        raise validateage('less than 0')\n",
    "    else:\n",
    "        print('valid age')"
   ]
  },
  {
   "cell_type": "code",
   "execution_count": 11,
   "id": "3899d61f-3c53-4184-a44d-034d07676903",
   "metadata": {},
   "outputs": [
    {
     "name": "stdin",
     "output_type": "stream",
     "text": [
      "Enter age:  -12\n"
     ]
    },
    {
     "name": "stdout",
     "output_type": "stream",
     "text": [
      "less than 0\n"
     ]
    }
   ],
   "source": [
    "try:\n",
    "    age = int(input('Enter age: '))\n",
    "    validate(age)\n",
    "except validateage as e:\n",
    "    print(e)"
   ]
  },
  {
   "cell_type": "code",
   "execution_count": 12,
   "id": "1b47cbcb-9acc-45c7-817e-79920ec2b164",
   "metadata": {},
   "outputs": [
    {
     "name": "stdin",
     "output_type": "stream",
     "text": [
      "Enter age:  -21\n"
     ]
    },
    {
     "name": "stdout",
     "output_type": "stream",
     "text": [
      "less than 0\n"
     ]
    }
   ],
   "source": [
    "# Q5. \n",
    "\n",
    "# Custom Exceptions are the user defined exception in python. \n",
    "# Custom Exceptions are used to raise exception as per user choice\n",
    "\n",
    "class validateage(Exception):\n",
    "    def __init__(self, msg):\n",
    "        self.msg = msg\n",
    "        \n",
    "def validate(age):\n",
    "    if age<0:\n",
    "        raise validateage('less than 0')\n",
    "    else:\n",
    "        print('valid age')\n",
    "        \n",
    "try:\n",
    "    age = int(input('Enter age: '))\n",
    "    validate(age)\n",
    "except validateage as e:\n",
    "    print(e)"
   ]
  },
  {
   "cell_type": "code",
   "execution_count": 13,
   "id": "b692e35c-6dd8-4542-b283-5ae0e66b842d",
   "metadata": {},
   "outputs": [
    {
     "name": "stdin",
     "output_type": "stream",
     "text": [
      "Enter age:  -31\n"
     ]
    },
    {
     "name": "stdout",
     "output_type": "stream",
     "text": [
      "less than 0\n"
     ]
    }
   ],
   "source": [
    "# Q6.\n",
    "\n",
    "\n",
    "class validateage(Exception):\n",
    "    def __init__(self, msg):\n",
    "        self.msg = msg\n",
    "        \n",
    "def validate(age):\n",
    "    if age<0:\n",
    "        raise validateage('less than 0')\n",
    "    else:\n",
    "        print('valid age')\n",
    "\n",
    "try:\n",
    "    age = int(input('Enter age: '))\n",
    "    validate(age)\n",
    "except validateage as e:\n",
    "    print(e)"
   ]
  },
  {
   "cell_type": "code",
   "execution_count": null,
   "id": "86d0d8f1-3216-4a1a-b7b5-c0b81a5f6ad1",
   "metadata": {},
   "outputs": [],
   "source": []
  }
 ],
 "metadata": {
  "kernelspec": {
   "display_name": "Python 3 (ipykernel)",
   "language": "python",
   "name": "python3"
  },
  "language_info": {
   "codemirror_mode": {
    "name": "ipython",
    "version": 3
   },
   "file_extension": ".py",
   "mimetype": "text/x-python",
   "name": "python",
   "nbconvert_exporter": "python",
   "pygments_lexer": "ipython3",
   "version": "3.10.8"
  }
 },
 "nbformat": 4,
 "nbformat_minor": 5
}
